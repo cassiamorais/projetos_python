{
 "cells": [
  {
   "cell_type": "markdown",
   "id": "b4fd54d6",
   "metadata": {},
   "source": [
    "Inicie\n",
    "\n",
    "Exiba \"Bem-vindo à Calculadora\"\n",
    "Peça para o usuário inserir o primeiro número\n",
    "Armazene o primeiro número em uma variável\n",
    "Peça para o usuário inserir o segundo número\n",
    "Armazene o segundo número em uma variável\n",
    "Peça para o usuário selecionar uma operação (+, -, *, /)\n",
    "Armazene a operação em uma variável\n",
    "Utilize a operação selecionada e os números armazenados para realizar o cálculo\n",
    "Exiba o resultado\n",
    "Fim"
   ]
  },
  {
   "cell_type": "code",
   "execution_count": 10,
   "id": "0b5e15d4",
   "metadata": {},
   "outputs": [
    {
     "name": "stdout",
     "output_type": "stream",
     "text": [
      "Bem-vindo à calculadora!\n"
     ]
    }
   ],
   "source": [
    "print(\"Bem-vindo à calculadora!\")"
   ]
  },
  {
   "cell_type": "code",
   "execution_count": 11,
   "id": "d5f0134f",
   "metadata": {},
   "outputs": [
    {
     "name": "stdout",
     "output_type": "stream",
     "text": [
      "insira o primeiro numéro: 5\n"
     ]
    }
   ],
   "source": [
    "num1 = float(input(\"insira o primeiro numéro: \"))"
   ]
  },
  {
   "cell_type": "code",
   "execution_count": 12,
   "id": "813c8b29",
   "metadata": {},
   "outputs": [
    {
     "name": "stdout",
     "output_type": "stream",
     "text": [
      "insira o segundo numéro: 6\n"
     ]
    }
   ],
   "source": [
    "num2 = float(input(\"insira o segundo numéro: \"))"
   ]
  },
  {
   "cell_type": "code",
   "execution_count": 13,
   "id": "a0586335",
   "metadata": {},
   "outputs": [
    {
     "name": "stdout",
     "output_type": "stream",
     "text": [
      "insira a operação (+, -, *, /):*\n"
     ]
    }
   ],
   "source": [
    "operação = (input(\"insira a operação (+, -, *, /):\"))"
   ]
  },
  {
   "cell_type": "code",
   "execution_count": 20,
   "id": "9037938e",
   "metadata": {},
   "outputs": [
    {
     "name": "stdout",
     "output_type": "stream",
     "text": [
      "O resultado é:  30.0\n"
     ]
    }
   ],
   "source": [
    "if operação == \"+\":\n",
    "    resultado = num1 + num2\n",
    "    print(\"O resultado é: \", resultado)\n",
    "\n",
    "elif operação == \"-\":\n",
    "    resultado = num1 - num2\n",
    "    print(\"O resultado é: \", resultado)\n",
    "    \n",
    "elif operação == \"*\":\n",
    "    resultado = num1 * num2\n",
    "    print(\"O resultado é: \", resultado)\n",
    "    \n",
    "elif operação == \"/\":\n",
    "    resultado = num1 / num2\n",
    "    print(\"O resultado é: \", resultado)\n",
    "    \n",
    "else: \n",
    "    print(\"Operação inválida.\")"
   ]
  }
 ],
 "metadata": {
  "kernelspec": {
   "display_name": "Python 3 (ipykernel)",
   "language": "python",
   "name": "python3"
  },
  "language_info": {
   "codemirror_mode": {
    "name": "ipython",
    "version": 3
   },
   "file_extension": ".py",
   "mimetype": "text/x-python",
   "name": "python",
   "nbconvert_exporter": "python",
   "pygments_lexer": "ipython3",
   "version": "3.9.13"
  }
 },
 "nbformat": 4,
 "nbformat_minor": 5
}
